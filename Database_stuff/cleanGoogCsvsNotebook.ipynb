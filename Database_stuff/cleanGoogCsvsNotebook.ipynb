{
 "cells": [
  {
   "cell_type": "code",
   "execution_count": 1,
   "metadata": {},
   "outputs": [],
   "source": [
    "import pandas as pd"
   ]
  },
  {
   "cell_type": "code",
   "execution_count": 5,
   "metadata": {},
   "outputs": [],
   "source": [
    "germ2019 = pd.read_csv(\"../goog_csvs/2019_germs.csv\")\n",
    "germ2019 = germ2019[[\"date\", \"hand sanitzer\", \"bleach\", \"toilet paper\"]]\n",
    "germ2019 = germ2019.rename(columns={\"hand sanitzer\":\"hand sanitizer\"})\n",
    "germ2019.to_csv(\"germ2019Clean.csv\", index=False)"
   ]
  },
  {
   "cell_type": "code",
   "execution_count": 9,
   "metadata": {},
   "outputs": [],
   "source": [
    "germ2020 = pd.read_csv(\"../goog_csvs/germs_2020.csv\")\n",
    "germ2020 = germ2020[[\"date\", \"hand sanitzer\", \"bleach\", \"toilet paper\"]]\n",
    "germ2020 = germ2020.rename(columns={\"hand sanitzer\":\"hand sanitizer\"})\n",
    "germ2020.to_csv(\"germ2020Clean.csv\", index=False)"
   ]
  },
  {
   "cell_type": "code",
   "execution_count": 12,
   "metadata": {},
   "outputs": [],
   "source": [
    "#Space for guns2019"
   ]
  },
  {
   "cell_type": "code",
   "execution_count": 23,
   "metadata": {},
   "outputs": [],
   "source": [
    "guns2020 = pd.read_csv(\"../goog_csvs/guns_2020.csv\")\n",
    "guns2020.to_csv('guns2020Clean.csv', index=False)"
   ]
  },
  {
   "cell_type": "code",
   "execution_count": 24,
   "metadata": {},
   "outputs": [],
   "source": [
    "rec2019 = pd.read_csv('../goog_csvs/2019_rec.csv')\n",
    "rec2019 = rec2019[[\"date\", \"netflix\", \"weed delivery\", \"beer delivery\"]]\n",
    "rec2019.to_csv('rec2019Clean.csv', index=False)"
   ]
  },
  {
   "cell_type": "code",
   "execution_count": 25,
   "metadata": {},
   "outputs": [],
   "source": [
    "rec2020 = pd.read_csv('../goog_csvs/rec_2020.csv')\n",
    "rec2020 = rec2020[[\"date\", \"netflix\", \"weed delivery\", \"beer delivery\"]]\n",
    "rec2020.to_csv('rec2020Clean.csv', index=False)"
   ]
  },
  {
   "cell_type": "code",
   "execution_count": 29,
   "metadata": {},
   "outputs": [],
   "source": [
    "topic2019 = pd.read_csv('../goog_csvs/2019_topic.csv')\n",
    "topic2019 = topic2019[['date', 'guns', 'germs', 'recreation']]\n",
    "topic2019.to_csv('topic2019Clean.csv', index=False)"
   ]
  },
  {
   "cell_type": "code",
   "execution_count": 33,
   "metadata": {},
   "outputs": [
    {
     "data": {
      "text/html": [
       "<div>\n",
       "<style scoped>\n",
       "    .dataframe tbody tr th:only-of-type {\n",
       "        vertical-align: middle;\n",
       "    }\n",
       "\n",
       "    .dataframe tbody tr th {\n",
       "        vertical-align: top;\n",
       "    }\n",
       "\n",
       "    .dataframe thead th {\n",
       "        text-align: right;\n",
       "    }\n",
       "</style>\n",
       "<table border=\"1\" class=\"dataframe\">\n",
       "  <thead>\n",
       "    <tr style=\"text-align: right;\">\n",
       "      <th></th>\n",
       "      <th>date</th>\n",
       "      <th>guns</th>\n",
       "      <th>germs</th>\n",
       "      <th>recreation</th>\n",
       "    </tr>\n",
       "  </thead>\n",
       "  <tbody>\n",
       "    <tr>\n",
       "      <th>0</th>\n",
       "      <td>2020-01-13</td>\n",
       "      <td>50</td>\n",
       "      <td>3</td>\n",
       "      <td>20</td>\n",
       "    </tr>\n",
       "    <tr>\n",
       "      <th>1</th>\n",
       "      <td>2020-01-14</td>\n",
       "      <td>53</td>\n",
       "      <td>3</td>\n",
       "      <td>17</td>\n",
       "    </tr>\n",
       "    <tr>\n",
       "      <th>2</th>\n",
       "      <td>2020-01-15</td>\n",
       "      <td>53</td>\n",
       "      <td>4</td>\n",
       "      <td>16</td>\n",
       "    </tr>\n",
       "    <tr>\n",
       "      <th>3</th>\n",
       "      <td>2020-01-16</td>\n",
       "      <td>59</td>\n",
       "      <td>3</td>\n",
       "      <td>19</td>\n",
       "    </tr>\n",
       "    <tr>\n",
       "      <th>4</th>\n",
       "      <td>2020-01-17</td>\n",
       "      <td>59</td>\n",
       "      <td>3</td>\n",
       "      <td>17</td>\n",
       "    </tr>\n",
       "    <tr>\n",
       "      <th>...</th>\n",
       "      <td>...</td>\n",
       "      <td>...</td>\n",
       "      <td>...</td>\n",
       "      <td>...</td>\n",
       "    </tr>\n",
       "    <tr>\n",
       "      <th>85</th>\n",
       "      <td>2020-04-07</td>\n",
       "      <td>66</td>\n",
       "      <td>11</td>\n",
       "      <td>12</td>\n",
       "    </tr>\n",
       "    <tr>\n",
       "      <th>86</th>\n",
       "      <td>2020-04-08</td>\n",
       "      <td>63</td>\n",
       "      <td>9</td>\n",
       "      <td>11</td>\n",
       "    </tr>\n",
       "    <tr>\n",
       "      <th>87</th>\n",
       "      <td>2020-04-09</td>\n",
       "      <td>65</td>\n",
       "      <td>10</td>\n",
       "      <td>12</td>\n",
       "    </tr>\n",
       "    <tr>\n",
       "      <th>88</th>\n",
       "      <td>2020-04-10</td>\n",
       "      <td>74</td>\n",
       "      <td>10</td>\n",
       "      <td>11</td>\n",
       "    </tr>\n",
       "    <tr>\n",
       "      <th>89</th>\n",
       "      <td>2020-04-11</td>\n",
       "      <td>77</td>\n",
       "      <td>9</td>\n",
       "      <td>9</td>\n",
       "    </tr>\n",
       "  </tbody>\n",
       "</table>\n",
       "<p>90 rows × 4 columns</p>\n",
       "</div>"
      ],
      "text/plain": [
       "          date  guns  germs  recreation\n",
       "0   2020-01-13    50      3          20\n",
       "1   2020-01-14    53      3          17\n",
       "2   2020-01-15    53      4          16\n",
       "3   2020-01-16    59      3          19\n",
       "4   2020-01-17    59      3          17\n",
       "..         ...   ...    ...         ...\n",
       "85  2020-04-07    66     11          12\n",
       "86  2020-04-08    63      9          11\n",
       "87  2020-04-09    65     10          12\n",
       "88  2020-04-10    74     10          11\n",
       "89  2020-04-11    77      9           9\n",
       "\n",
       "[90 rows x 4 columns]"
      ]
     },
     "execution_count": 33,
     "metadata": {},
     "output_type": "execute_result"
    }
   ],
   "source": [
    "topic2020 = pd.read_csv('../goog_csvs/topics_2020.csv')\n",
    "topic2020.to_csv('2')"
   ]
  },
  {
   "cell_type": "code",
   "execution_count": null,
   "metadata": {},
   "outputs": [],
   "source": []
  }
 ],
 "metadata": {
  "kernelspec": {
   "display_name": "Python 3",
   "language": "python",
   "name": "python3"
  },
  "language_info": {
   "codemirror_mode": {
    "name": "ipython",
    "version": 3
   },
   "file_extension": ".py",
   "mimetype": "text/x-python",
   "name": "python",
   "nbconvert_exporter": "python",
   "pygments_lexer": "ipython3",
   "version": "3.7.5"
  }
 },
 "nbformat": 4,
 "nbformat_minor": 4
}
