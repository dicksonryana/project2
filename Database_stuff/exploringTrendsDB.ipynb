{
 "cells": [
  {
   "cell_type": "code",
   "execution_count": 7,
   "metadata": {},
   "outputs": [],
   "source": [
    "# Python SQL toolkit and Object Relational Mapper\n",
    "import sqlalchemy\n",
    "from sqlalchemy.ext.automap import automap_base\n",
    "from sqlalchemy.orm import Session\n",
    "from sqlalchemy import create_engine, func, or_\n",
    "from sqlalchemy import inspect"
   ]
  },
  {
   "cell_type": "code",
   "execution_count": 11,
   "metadata": {},
   "outputs": [],
   "source": [
    "engine = create_engine(\"sqlite:///trends.sqlite\")\n",
    "conn = engine.connect()"
   ]
  },
  {
   "cell_type": "code",
   "execution_count": 64,
   "metadata": {},
   "outputs": [
    {
     "name": "stdout",
     "output_type": "stream",
     "text": [
      "['cdcTweet', 'germs2019', 'germs2020', 'guns2019', 'guns2020', 'netflix_tweet', 'nraTweet', 'rec2019', 'rec2020', 'topic2019', 'topic2020']\n"
     ]
    }
   ],
   "source": [
    "print(engine.table_names())"
   ]
  },
  {
   "cell_type": "code",
   "execution_count": 65,
   "metadata": {},
   "outputs": [],
   "source": [
    "result = engine.execute(\"select * from guns2019\")\n",
    "guns2019 = {}\n",
    "guns2019date = []\n",
    "guns2019ammunition = []\n",
    "guns2019stores = []\n",
    "guns2019ar15 = []\n",
    "for row in result:\n",
    "    guns2019date.append(row[1])\n",
    "    guns2019ammunition.append(row[2])\n",
    "    guns2019stores.append(row[3])\n",
    "    guns2019ar15.append(row[4])\n",
    "result.close()"
   ]
  },
  {
   "cell_type": "code",
   "execution_count": 66,
   "metadata": {},
   "outputs": [],
   "source": [
    "guns2019['dates'] = guns2019date\n",
    "guns2019['ammunition'] = guns2019ammunition\n",
    "guns2019['stores'] = guns2019stores\n",
    "guns2019['ar15'] = guns2019ar15"
   ]
  },
  {
   "cell_type": "code",
   "execution_count": 67,
   "metadata": {},
   "outputs": [
    {
     "data": {
      "text/plain": [
       "{'dates': ['2019-01-06',\n",
       "  '2019-01-13',\n",
       "  '2019-01-20',\n",
       "  '2019-01-27',\n",
       "  '2019-02-03',\n",
       "  '2019-02-10',\n",
       "  '2019-02-17',\n",
       "  '2019-02-24',\n",
       "  '2019-03-03',\n",
       "  '2019-03-10',\n",
       "  '2019-03-17',\n",
       "  '2019-03-24',\n",
       "  '2019-03-31',\n",
       "  '2019-04-07',\n",
       "  '2019-04-14',\n",
       "  '2019-04-21',\n",
       "  '2019-04-28'],\n",
       " 'ammunition': [12,\n",
       "  11,\n",
       "  12,\n",
       "  12,\n",
       "  12,\n",
       "  13,\n",
       "  12,\n",
       "  13,\n",
       "  12,\n",
       "  13,\n",
       "  12,\n",
       "  12,\n",
       "  11,\n",
       "  12,\n",
       "  11,\n",
       "  11,\n",
       "  11],\n",
       " 'stores': [6, 5, 5, 5, 5, 6, 6, 6, 6, 6, 5, 6, 6, 4, 4, 4, 4],\n",
       " 'ar15': [9, 8, 8, 8, 8, 9, 9, 9, 7, 10, 10, 8, 9, 7, 7, 7, 7]}"
      ]
     },
     "execution_count": 67,
     "metadata": {},
     "output_type": "execute_result"
    }
   ],
   "source": [
    "guns2019"
   ]
  },
  {
   "cell_type": "code",
   "execution_count": null,
   "metadata": {},
   "outputs": [],
   "source": []
  }
 ],
 "metadata": {
  "kernelspec": {
   "display_name": "Python 3",
   "language": "python",
   "name": "python3"
  },
  "language_info": {
   "codemirror_mode": {
    "name": "ipython",
    "version": 3
   },
   "file_extension": ".py",
   "mimetype": "text/x-python",
   "name": "python",
   "nbconvert_exporter": "python",
   "pygments_lexer": "ipython3",
   "version": "3.7.5"
  }
 },
 "nbformat": 4,
 "nbformat_minor": 4
}
