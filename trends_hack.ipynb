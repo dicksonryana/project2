{
 "cells": [
  {
   "cell_type": "code",
   "execution_count": null,
   "metadata": {},
   "outputs": [],
   "source": [
    "import pandas as pd\n",
    "from pytrends.request import TrendReq\n",
    "pytrends = TrendReq()"
   ]
  },
  {
   "cell_type": "code",
   "execution_count": null,
   "metadata": {},
   "outputs": [],
   "source": [
    "topic_ls = [\"guns\", \"germs\", \"recreation\"]\n",
    "gun_ls = [\"amunition\", \"gun stores\", \"ar-15\"]\n",
    "germs_ls = [\"hand sanitizer\", \"bleach\", \"toilet paper\"]\n",
    "tv_ls = [\"netflix\", \"weed delivery\", \"beer delivery\"]"
   ]
  },
  {
   "cell_type": "code",
   "execution_count": null,
   "metadata": {},
   "outputs": [],
   "source": [
    "df_2019 = pytrends.get_historical_interest(topic_ls, year_start=2019, month_start=1, day_start=1, hour_start=0, year_end=2019, \n",
    "                                 month_end=4, day_end=12, hour_end=0, cat=0, geo='US', gprop = 'web searches', sleep=60)\n",
    "df_2019 = df.drop(\"isPartial\", axis = 1)\n",
    "df_2019 = df.reset_index()\n",
    "df_2019.head()"
   ]
  },
  {
   "cell_type": "code",
   "execution_count": null,
   "metadata": {},
   "outputs": [],
   "source": [
    "df_2020 = pytrends.get_historical_interest(topic_ls, year_start=2020, month_start=1, day_start=1, hour_start=0, year_end=2020, \n",
    "                                 month_end=4, day_end=9, hour_end=0, cat=0, geo='US', gprop = 'web searches', sleep=60)\n",
    "df_2020 = df.drop(\"isPartial\", axis = 1)\n",
    "df_2020 = df.reset_index()\n",
    "df_2020.head()"
   ]
  },
  {
   "cell_type": "code",
   "execution_count": null,
   "metadata": {},
   "outputs": [],
   "source": []
  },
  {
   "cell_type": "code",
   "execution_count": null,
   "metadata": {},
   "outputs": [],
   "source": []
  }
 ],
 "metadata": {
  "kernelspec": {
   "display_name": "Python 3",
   "language": "python",
   "name": "python3"
  },
  "language_info": {
   "codemirror_mode": {
    "name": "ipython",
    "version": 3
   },
   "file_extension": ".py",
   "mimetype": "text/x-python",
   "name": "python",
   "nbconvert_exporter": "python",
   "pygments_lexer": "ipython3",
   "version": "3.7.5"
  }
 },
 "nbformat": 4,
 "nbformat_minor": 4
}
