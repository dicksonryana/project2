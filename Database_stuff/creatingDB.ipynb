{
 "cells": [
  {
   "cell_type": "code",
   "execution_count": 1,
   "metadata": {},
   "outputs": [],
   "source": [
    "from sqlalchemy import create_engine\n",
    "engine = create_engine('sqlite:///trends.sqlite', echo=False)"
   ]
  },
  {
   "cell_type": "code",
   "execution_count": 2,
   "metadata": {},
   "outputs": [],
   "source": [
    "import pandas as pd"
   ]
  },
  {
   "cell_type": "code",
   "execution_count": 3,
   "metadata": {},
   "outputs": [],
   "source": [
    "germs2019 = pd.read_csv('germ2019Clean.csv')\n",
    "germs2019.to_sql('germs2019', con=engine)"
   ]
  },
  {
   "cell_type": "code",
   "execution_count": 5,
   "metadata": {},
   "outputs": [],
   "source": [
    "germs2020 = pd.read_csv('germ2020Clean.csv')\n",
    "germs2020.to_sql('germs2020', con=engine)"
   ]
  },
  {
   "cell_type": "code",
   "execution_count": 8,
   "metadata": {},
   "outputs": [],
   "source": [
    "guns2019 = pd.read_csv('guns2019Clean.csv')\n",
    "guns2019.to_sql('guns2019', con=engine)"
   ]
  },
  {
   "cell_type": "code",
   "execution_count": 10,
   "metadata": {},
   "outputs": [],
   "source": [
    "guns2020 = pd.read_csv('guns2020Clean.csv')\n",
    "guns2020.to_sql('guns2020', con=engine)"
   ]
  },
  {
   "cell_type": "code",
   "execution_count": 12,
   "metadata": {},
   "outputs": [],
   "source": [
    "rec2019 = pd.read_csv('rec2019Clean.csv')\n",
    "rec2019.to_sql('rec2019', con=engine)"
   ]
  },
  {
   "cell_type": "code",
   "execution_count": 14,
   "metadata": {},
   "outputs": [],
   "source": [
    "rec2020 = pd.read_csv('rec2020Clean.csv')\n",
    "rec2020.to_sql('rec2020', con=engine)"
   ]
  },
  {
   "cell_type": "code",
   "execution_count": 16,
   "metadata": {},
   "outputs": [],
   "source": [
    "topic2019 = pd.read_csv('topic2019Clean.csv')\n",
    "topic2019.to_sql('topic2019', con=engine)"
   ]
  },
  {
   "cell_type": "code",
   "execution_count": 19,
   "metadata": {},
   "outputs": [],
   "source": [
    "topic2020 = pd.read_csv('topic2020Clean.csv')\n",
    "topic2020 = topic2020[['date', 'guns', 'germs', 'recreation']]\n",
    "topic2020.to_sql('topic2020', con=engine)"
   ]
  },
  {
   "cell_type": "code",
   "execution_count": 22,
   "metadata": {},
   "outputs": [],
   "source": [
    "netflixTweets = pd.read_csv('../tweet_csvs/netflix_tweets.csv')\n",
    "netflixTweets.to_sql('netflix_tweet', con=engine)"
   ]
  },
  {
   "cell_type": "code",
   "execution_count": 24,
   "metadata": {},
   "outputs": [],
   "source": [
    "cdcTweet = pd.read_csv('../tweet_csvs/CDCEmergency_tweets.csv')\n",
    "cdcTweet.to_sql('cdcTweet', con=engine)"
   ]
  },
  {
   "cell_type": "code",
   "execution_count": 26,
   "metadata": {},
   "outputs": [],
   "source": [
    "nraTweet = pd.read_csv('../tweet_csvs/NRA_tweets.csv')\n",
    "nraTweet.to_sql('nraTweet', con=engine)"
   ]
  },
  {
   "cell_type": "code",
   "execution_count": null,
   "metadata": {},
   "outputs": [],
   "source": []
  }
 ],
 "metadata": {
  "kernelspec": {
   "display_name": "Python 3",
   "language": "python",
   "name": "python3"
  },
  "language_info": {
   "codemirror_mode": {
    "name": "ipython",
    "version": 3
   },
   "file_extension": ".py",
   "mimetype": "text/x-python",
   "name": "python",
   "nbconvert_exporter": "python",
   "pygments_lexer": "ipython3",
   "version": "3.7.5"
  }
 },
 "nbformat": 4,
 "nbformat_minor": 4
}
