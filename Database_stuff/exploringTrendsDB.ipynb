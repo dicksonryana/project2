{
 "cells": [
  {
   "cell_type": "code",
   "execution_count": 2,
   "metadata": {},
   "outputs": [],
   "source": [
    "# Python SQL toolkit and Object Relational Mapper\n",
    "import sqlalchemy\n",
    "from sqlalchemy.ext.automap import automap_base\n",
    "from sqlalchemy.orm import Session\n",
    "from sqlalchemy import create_engine, func, or_\n",
    "from sqlalchemy import inspect"
   ]
  },
  {
   "cell_type": "code",
   "execution_count": 3,
   "metadata": {},
   "outputs": [],
   "source": [
    "engine = create_engine(\"sqlite:///trends.sqlite\")\n",
    "conn = engine.connect()"
   ]
  },
  {
   "cell_type": "code",
   "execution_count": 4,
   "metadata": {},
   "outputs": [
    {
     "name": "stdout",
     "output_type": "stream",
     "text": [
      "['cdcTweet', 'germs2019', 'germs2020', 'guns2019', 'guns2020', 'netflix_tweet', 'nraTweet', 'rec2019', 'rec2020', 'topic2019', 'topic2020']\n"
     ]
    }
   ],
   "source": [
    "print(engine.table_names())"
   ]
  },
  {
   "cell_type": "code",
   "execution_count": 5,
   "metadata": {},
   "outputs": [],
   "source": [
    "result = engine.execute(\"select * from guns2019\")\n",
    "guns2019 = {}\n",
    "guns2019date = []\n",
    "guns2019ammunition = []\n",
    "guns2019stores = []\n",
    "guns2019ar15 = []\n",
    "for row in result:\n",
    "    guns2019date.append(row[1])\n",
    "    guns2019ammunition.append(row[2])\n",
    "    guns2019stores.append(row[3])\n",
    "    guns2019ar15.append(row[4])\n",
    "result.close()"
   ]
  },
  {
   "cell_type": "code",
   "execution_count": 6,
   "metadata": {},
   "outputs": [],
   "source": [
    "guns2019['dates'] = guns2019date\n",
    "guns2019['ammunition'] = guns2019ammunition\n",
    "guns2019['stores'] = guns2019stores\n",
    "guns2019['ar15'] = guns2019ar15"
   ]
  },
  {
   "cell_type": "code",
   "execution_count": 7,
   "metadata": {},
   "outputs": [
    {
     "name": "stdout",
     "output_type": "stream",
     "text": [
      "(0, '2019-01-06', 1, 11, 2)\n",
      "(1, '2019-01-13', 1, 10, 2)\n",
      "(2, '2019-01-20', 1, 11, 2)\n",
      "(3, '2019-01-27', 1, 11, 2)\n",
      "(4, '2019-02-03', 1, 11, 2)\n",
      "(5, '2019-02-10', 1, 11, 30)\n",
      "(6, '2019-02-17', 1, 11, 58)\n",
      "(7, '2019-02-24', 1, 10, 5)\n",
      "(8, '2019-03-03', 1, 11, 3)\n",
      "(9, '2019-03-10', 1, 11, 3)\n",
      "(10, '2019-03-17', 1, 11, 2)\n",
      "(11, '2019-03-24', 1, 11, 2)\n",
      "(12, '2019-03-31', 1, 11, 2)\n",
      "(13, '2019-04-07', 1, 11, 2)\n",
      "(14, '2019-04-14', 1, 12, 2)\n",
      "(15, '2019-04-21', 1, 11, 2)\n",
      "(16, '2019-04-28', 1, 11, 2)\n"
     ]
    }
   ],
   "source": [
    "result = engine.execute(\"select * from germs2019\")\n",
    "germs2019 = {}\n",
    "dates = []\n",
    "hs = []\n",
    "bleach = []\n",
    "tp = []\n",
    "for row in result:\n",
    "    dates.append(row[1])\n",
    "    hs.append(row[2])\n",
    "    bleach.append(row[3])\n",
    "    tp.append(row[4])\n",
    "result.close\n",
    "germs2019['dates'] = dates\n",
    "germs2019['hand sanitizer'] = hs\n",
    "germs2019['bleach'] = bleach\n",
    "germs2019['toilet paper'] = tp"
   ]
  },
  {
   "cell_type": "code",
   "execution_count": 9,
   "metadata": {},
   "outputs": [
    {
     "data": {
      "text/plain": [
       "{'date': ['2019-01-06',\n",
       "  '2019-01-13',\n",
       "  '2019-01-20',\n",
       "  '2019-01-27',\n",
       "  '2019-02-03',\n",
       "  '2019-02-10',\n",
       "  '2019-02-17',\n",
       "  '2019-02-24',\n",
       "  '2019-03-03',\n",
       "  '2019-03-10',\n",
       "  '2019-03-17',\n",
       "  '2019-03-24',\n",
       "  '2019-03-31',\n",
       "  '2019-04-07',\n",
       "  '2019-04-14',\n",
       "  '2019-04-21',\n",
       "  '2019-04-28'],\n",
       " 'netflix': [60,\n",
       "  57,\n",
       "  54,\n",
       "  52,\n",
       "  48,\n",
       "  47,\n",
       "  46,\n",
       "  43,\n",
       "  43,\n",
       "  42,\n",
       "  43,\n",
       "  42,\n",
       "  43,\n",
       "  42,\n",
       "  44,\n",
       "  44,\n",
       "  44],\n",
       " 'weed': [6, 6, 6, 6, 6, 6, 6, 6, 6, 6, 7, 7, 7, 7, 8, 8, 7],\n",
       " 'beer': [8, 8, 8, 8, 9, 8, 8, 9, 9, 9, 9, 9, 10, 9, 9, 9, 9]}"
      ]
     },
     "execution_count": 9,
     "metadata": {},
     "output_type": "execute_result"
    }
   ],
   "source": [
    "result = engine.execute(\"select * from rec2019\")\n",
    "rec2019 = {}\n",
    "date = []\n",
    "netflix = []\n",
    "weed = []\n",
    "beer = []\n",
    "for row in result:\n",
    "    date.append(row[1])\n",
    "    netflix.append(row[2])\n",
    "    weed.append(row[3])\n",
    "    beer.append(row[4])\n",
    "result.close()\n",
    "rec2019[\"date\"] = date \n",
    "rec2019[\"netflix\"] = netflix \n",
    "rec2019[\"weed\"] = weed \n",
    "rec2019[\"beer\"] = beer"
   ]
  },
  {
   "cell_type": "code",
   "execution_count": 11,
   "metadata": {},
   "outputs": [
    {
     "data": {
      "text/plain": [
       "{'date': ['2019-01-06',\n",
       "  '2019-01-13',\n",
       "  '2019-01-20',\n",
       "  '2019-01-27',\n",
       "  '2019-02-03',\n",
       "  '2019-02-10',\n",
       "  '2019-02-17',\n",
       "  '2019-02-24',\n",
       "  '2019-03-03',\n",
       "  '2019-03-10',\n",
       "  '2019-03-17',\n",
       "  '2019-03-24',\n",
       "  '2019-03-31',\n",
       "  '2019-04-07',\n",
       "  '2019-04-14',\n",
       "  '2019-04-21',\n",
       "  '2019-04-28'],\n",
       " 'guns': [46, 47, 46, 46, 46, 48, 49, 47, 48, 47, 49, 47, 44, 45, 44, 43, 43],\n",
       " 'germs': [2, 3, 3, 3, 3, 3, 2, 3, 3, 2, 2, 2, 2, 2, 2, 2, 2],\n",
       " 'recreation': [16,\n",
       "  15,\n",
       "  15,\n",
       "  15,\n",
       "  15,\n",
       "  15,\n",
       "  16,\n",
       "  15,\n",
       "  16,\n",
       "  17,\n",
       "  16,\n",
       "  16,\n",
       "  17,\n",
       "  16,\n",
       "  16,\n",
       "  16,\n",
       "  17]}"
      ]
     },
     "execution_count": 11,
     "metadata": {},
     "output_type": "execute_result"
    }
   ],
   "source": [
    "result = engine.execute(\"select * from topic2019\")\n",
    "topic2019 = {}\n",
    "date = []\n",
    "guns = []\n",
    "germs = []\n",
    "recreation = []\n",
    "for row in result:\n",
    "    date.append(row[1])\n",
    "    guns.append(row[2])\n",
    "    germs.append(row[3])\n",
    "    recreation.append(row[4])\n",
    "topic2019[\"date\"] = date\n",
    "topic2019[\"guns\"] = guns    \n",
    "topic2019[\"germs\"] = germs    \n",
    "topic2019[\"recreation\"] = recreation\n",
    "topic2019"
   ]
  },
  {
   "cell_type": "code",
   "execution_count": 16,
   "metadata": {},
   "outputs": [],
   "source": [
    "result = engine.execute(\"select * from cdcTweet\")\n",
    "cdcTweet= {}\n",
    "tweet = []\n",
    "for row in result:\n",
    "    tweet.append(row[2])\n",
    "cdcTweet['tweet'] = tweet"
   ]
  },
  {
   "cell_type": "code",
   "execution_count": null,
   "metadata": {},
   "outputs": [],
   "source": []
  }
 ],
 "metadata": {
  "kernelspec": {
   "display_name": "Python 3",
   "language": "python",
   "name": "python3"
  },
  "language_info": {
   "codemirror_mode": {
    "name": "ipython",
    "version": 3
   },
   "file_extension": ".py",
   "mimetype": "text/x-python",
   "name": "python",
   "nbconvert_exporter": "python",
   "pygments_lexer": "ipython3",
   "version": "3.7.5"
  }
 },
 "nbformat": 4,
 "nbformat_minor": 4
}
